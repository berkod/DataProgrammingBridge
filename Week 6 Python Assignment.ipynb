{
 "metadata": {
  "name": "",
  "signature": "sha256:36df48425914fafca610669b8b9fddb5e5abdf0617d5b009c16983178fdb54de"
 },
 "nbformat": 3,
 "nbformat_minor": 0,
 "worksheets": [
  {
   "cells": [
    {
     "cell_type": "markdown",
     "metadata": {},
     "source": [
      "# Using Regular Expressions to break down a text string."
     ]
    },
    {
     "cell_type": "markdown",
     "metadata": {},
     "source": [
      "The following code takes a text file of results from a group of the World Cup and breaks down each line of the file to output each contry's results."
     ]
    },
    {
     "cell_type": "code",
     "collapsed": false,
     "input": [
      "import re\n",
      "fname = \"D:/Erik/futbol.txt\"\n",
      "#Protects from a file name that doesn't exist\n",
      "try:\n",
      "    fhand = open(fname)\n",
      "except:\n",
      "    print 'File cannot be opened: ',fname\n",
      "\n",
      "#Loops through the lines in the files interpreting each line    \n",
      "for line in fhand:\n",
      "    line = line.strip()\n",
      "    match1 = re.search('^[0-9]+', line) \n",
      "    match2 = re.search('\\S([A-Za-z]+.[A-Za-z]+)\\S',line)\n",
      "    match3 = re.findall('\\| ([A-Z] [0-9])',line)\n",
      "#Formats the outpu text\n",
      "    print \"Rank:\",match1.group()\n",
      "    print \"Country:\",match2.group()\n",
      "    print \"Results:\"\n",
      "    i = 0\n",
      "    for result in match3:\n",
      "        print match3[i] \n",
      "        i += 1\n",
      "    print \"\""
     ],
     "language": "python",
     "metadata": {},
     "outputs": [
      {
       "output_type": "stream",
       "stream": "stdout",
       "text": [
        "Rank: 1\n",
        "Country: Germany\n",
        "Results:\n",
        "W 3\n",
        "T 4\n",
        "W 2\n",
        "\n",
        "Rank: 2\n",
        "Country: United States\n",
        "Results:\n",
        "W 4\n",
        "T 3\n",
        "L 1\n",
        "\n",
        "Rank: 3\n",
        "Country: Portugal\n",
        "Results:\n",
        "L 1\n",
        "T 2\n",
        "W 4\n",
        "\n",
        "Rank: 4\n",
        "Country: Ghana\n",
        "Results:\n",
        "L 2\n",
        "T 1\n",
        "L 3\n",
        "\n"
       ]
      }
     ],
     "prompt_number": 121
    },
    {
     "cell_type": "markdown",
     "metadata": {},
     "source": [
      "This code sholud work on larger data sets where there are more games in a round and did work when I added more countries to the text file."
     ]
    }
   ],
   "metadata": {}
  }
 ]
}