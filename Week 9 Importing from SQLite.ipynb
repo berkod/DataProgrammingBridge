{
 "metadata": {
  "name": "",
  "signature": "sha256:96ba2bd1ecf476bdb6f02d440a67e4aaf4cde10f4cc5c9bb1cf1b58cb2809608"
 },
 "nbformat": 3,
 "nbformat_minor": 0,
 "worksheets": [
  {
   "cells": [
    {
     "cell_type": "markdown",
     "metadata": {},
     "source": [
      "# Week 9 Assignment Importing the data into Python"
     ]
    },
    {
     "cell_type": "markdown",
     "metadata": {},
     "source": [
      "First we need to connect to the database. Make sure to change the path to the location of the file on your machine."
     ]
    },
    {
     "cell_type": "code",
     "collapsed": false,
     "input": [
      "import sqlite3\n",
      "conn = sqlite3.connect('D:/Erik/cunyweek9.sqlite')\n",
      "cur = conn.cursor()"
     ],
     "language": "python",
     "metadata": {},
     "outputs": [],
     "prompt_number": 1
    },
    {
     "cell_type": "markdown",
     "metadata": {},
     "source": [
      "Next I created a function that takes the table name and returns a list of tuples which represent the x and y coordinates."
     ]
    },
    {
     "cell_type": "code",
     "collapsed": false,
     "input": [
      "def read_table(tablename):\n",
      "    table = str(tablename)\n",
      "    cur.execute('SELECT * FROM %s' %table)\n",
      "    points = []\n",
      "    for row in cur:\n",
      "        points.append(row)\n",
      "    return points"
     ],
     "language": "python",
     "metadata": {},
     "outputs": [],
     "prompt_number": 29
    },
    {
     "cell_type": "markdown",
     "metadata": {},
     "source": [
      "Finally we call the function for each table in the database and assign each to it's own list."
     ]
    },
    {
     "cell_type": "code",
     "collapsed": false,
     "input": [
      "points1 = read_table('I')\n",
      "points2 = read_table('II')\n",
      "points3 = read_table('III')\n",
      "points4 = read_table('IV')"
     ],
     "language": "python",
     "metadata": {},
     "outputs": [],
     "prompt_number": 33
    },
    {
     "cell_type": "markdown",
     "metadata": {},
     "source": [
      "Finally I printed the lists to make sure that all went well."
     ]
    },
    {
     "cell_type": "code",
     "collapsed": false,
     "input": [
      "print points1 \n",
      "print points2\n",
      "print points3\n",
      "print points4"
     ],
     "language": "python",
     "metadata": {},
     "outputs": [
      {
       "output_type": "stream",
       "stream": "stdout",
       "text": [
        "[(10, 8.04), (8, 6.95), (13, 7.58), (9, 8.81), (11, 8.33), (14, 9.96), (6, 7.24), (4, 4.26), (12, 10.84), (7, 4.82), (5, 5.68)]\n",
        "[(10, 9.14), (8, 8.14), (13, 8.74), (9, 8.77), (11, 9.26), (14, 8.1), (6, 6.13), (4, 3.1), (12, 9.13), (7, 7.26), (5, 4.74)]\n",
        "[(10, 7.46), (8, 6.77), (13, 12.74), (9, 7.11), (11, 7.81), (14, 8.84), (6, 6.08), (4, 5.39), (12, 8.15), (7, 6.42), (5, 5.73)]\n",
        "[(8, 6.58), (8, 5.76), (8, 7.71), (8, 8.84), (8, 8.47), (8, 7.04), (8, 5.25), (19, 12.5), (8, 5.56), (8, 7.91), (8, 6.89)]\n"
       ]
      }
     ],
     "prompt_number": 35
    }
   ],
   "metadata": {}
  }
 ]
}