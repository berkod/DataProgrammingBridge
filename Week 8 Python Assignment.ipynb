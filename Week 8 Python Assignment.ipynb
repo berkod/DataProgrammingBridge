{
 "metadata": {
  "name": "",
  "signature": "sha256:6695cabf391f02aad9307ba2e7ae02b3d0c8254580f71a45f22d70493c31fd66"
 },
 "nbformat": 3,
 "nbformat_minor": 0,
 "worksheets": [
  {
   "cells": [
    {
     "cell_type": "markdown",
     "metadata": {},
     "source": [
      "# Using Python to Execute Commands in a SQLite Database"
     ]
    },
    {
     "cell_type": "markdown",
     "metadata": {},
     "source": [
      "First we need to import the library that allows us to communicate with an SQLite database. The as statment allows us to alias the call to the library."
     ]
    },
    {
     "cell_type": "code",
     "collapsed": false,
     "input": [
      "import sqlite3 as sqlite"
     ],
     "language": "python",
     "metadata": {},
     "outputs": [],
     "prompt_number": 38
    },
    {
     "cell_type": "markdown",
     "metadata": {},
     "source": [
      "Now we need to connect to the database and request a cursor so that we can execute commands. I am still havinf some difficulty getting the file into a spot where I don't have to include the entire file path."
     ]
    },
    {
     "cell_type": "code",
     "collapsed": false,
     "input": [
      "conn = sqlite.connect('D:/Erik/customerdata.sqlite')\n",
      "cur = conn.cursor()"
     ],
     "language": "python",
     "metadata": {},
     "outputs": [],
     "prompt_number": 39
    },
    {
     "cell_type": "markdown",
     "metadata": {},
     "source": [
      "Now we will use a join statement to pull names and salese data from the customer.sqlite database. We will then print out the lines that are returned from our search."
     ]
    },
    {
     "cell_type": "code",
     "collapsed": false,
     "input": [
      "print 'Customer Sales:'\n",
      "cur.execute('SELECT firstname, lastname, sales FROM customers AS C JOIN sales \\\n",
      "            AS S ON C.id = S.customerid ORDER BY lastname, firstname')\n",
      "for row in cur:\n",
      "    print row"
     ],
     "language": "python",
     "metadata": {},
     "outputs": [
      {
       "output_type": "stream",
       "stream": "stdout",
       "text": [
        "Customer Sales:\n",
        "(u'Billy', u'Griffin', 50.0)\n",
        "(u'Billy', u'Griffin', 130.0)\n",
        "(u'Terry', u'Jacobs', 500.0)\n",
        "(u'Terry', u'Jacobs', 140.0)\n",
        "(u'Terry', u'Jacobs', 240.0)\n",
        "(u'April', u'Jones', 330.0)\n",
        "(u'April', u'Jones', 290.0)\n",
        "(u'Donald', u'Scott', 300.0)\n",
        "(u'Emma', u'Simms', 280.0)\n",
        "(u'Emma', u'Simms', 100.0)\n",
        "(u'Wayne', u'Smith', 185.0)\n",
        "(u'Bobby', u'Thompson', 160.0)\n",
        "(u'Carrie', u'Toms', 140.0)\n",
        "(u'Sonya', u'Williams', 250.0)\n",
        "(u'Joan', u'Wright', 205.0)\n"
       ]
      }
     ],
     "prompt_number": 40
    },
    {
     "cell_type": "markdown",
     "metadata": {},
     "source": [
      "Finally we want to close our cursor and the connection to the database."
     ]
    },
    {
     "cell_type": "code",
     "collapsed": false,
     "input": [
      "cur.close()\n",
      "conn.close()"
     ],
     "language": "python",
     "metadata": {},
     "outputs": [],
     "prompt_number": 41
    }
   ],
   "metadata": {}
  }
 ]
}