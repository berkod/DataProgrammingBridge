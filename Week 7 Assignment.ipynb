{
 "metadata": {
  "name": "",
  "signature": "sha256:610a5b1ce4977d278c6b18edb495c41f5a827d8684d806d34537e28ecf9fea86"
 },
 "nbformat": 3,
 "nbformat_minor": 0,
 "worksheets": [
  {
   "cells": [
    {
     "cell_type": "markdown",
     "metadata": {},
     "source": [
      "#Using BeautifulSoup to Read in URL's"
     ]
    },
    {
     "cell_type": "markdown",
     "metadata": {},
     "source": [
      "Importing the urllib library to get the html document and BeautifulSoup to parse the html file."
     ]
    },
    {
     "cell_type": "code",
     "collapsed": false,
     "input": [
      "import urllib\n",
      "from bs4 import BeautifulSoup"
     ],
     "language": "python",
     "metadata": {},
     "outputs": [],
     "prompt_number": 1
    },
    {
     "cell_type": "markdown",
     "metadata": {},
     "source": [
      "The following retrieves the html document and send it to the BeautifulSoup parser."
     ]
    },
    {
     "cell_type": "code",
     "collapsed": false,
     "input": [
      "url = \"https://wiki.python.org/moin/BeginnersGuide\"\n",
      "html = urllib.urlopen(url).read()\n",
      "soup = BeautifulSoup(html)"
     ],
     "language": "python",
     "metadata": {},
     "outputs": [],
     "prompt_number": 2
    },
    {
     "cell_type": "markdown",
     "metadata": {},
     "source": [
      "The following places 'a class' tags into a result set that we can itterate through. We itterate through the tags printing out just the url's using the 'href' tag."
     ]
    },
    {
     "cell_type": "code",
     "collapsed": false,
     "input": [
      "tags=soup.find_all('a')\n",
      "for tag in tags:\n",
      "    print tag.get('href')"
     ],
     "language": "python",
     "metadata": {},
     "outputs": [
      {
       "output_type": "stream",
       "stream": "stdout",
       "text": [
        "/moin/FrontPage\n",
        "http://www.python.org\n",
        "None\n",
        "/moin/BeginnersGuide?action=fullsearch&context=180&value=linkto%3A%22BeginnersGuide%22\n",
        "/moin/BeginnersGuide\n",
        "/moin/FrontPage\n",
        "/moin/RecentChanges\n",
        "/moin/FindPage\n",
        "/moin/HelpContents\n",
        "/moin/BeginnersGuide\n",
        "#\n",
        "/moin/BeginnersGuide?action=info\n",
        "/moin/BeginnersGuide?action=AttachFile\n",
        "/moin/BeginnersGuide?action=login\n",
        "/moin/BeginnersGuideChinese\n",
        "/moin/BeginnersGuide/Overview\n",
        "/moin/Python2orPython3\n",
        "/moin/BeginnersGuide/Download\n",
        "/moin/HowToEditPythonCode\n",
        "/moin/BeginnersGuide/NonProgrammers\n",
        "/moin/BeginnersGuide/Programmers\n",
        "/moin/Languages\n",
        "http://www.python.org/doc/faq/windows/#how-do-i-run-a-python-program-under-windows\n",
        "http://docs.python.org\n",
        "http://docs.python.org/tut/\n",
        "http://docs.python.org//lib/\n",
        "http://docs.python.org/ref/\n",
        "/moin/PythonEditors\n",
        "/moin/BeginnersGuide/Help\n",
        "/moin/IntroductoryBooks\n",
        "/moin/BeginnersGuide/Examples\n",
        "/moin/PythonEvents\n",
        "/moin/PythonTraining\n",
        "http://www.python.org/sigs/edu-sig/\n",
        "/moin/BeginnersGuide?action=AttachFile&do=view&target=PythonDoc%26Start16DEC2010.pdf\n",
        "/moin/BeginnersGuide/Download\n",
        "/moin/BeginnersGuide/Examples\n",
        "/moin/BeginnersGuide/Help\n",
        "/moin/BeginnersGuide/Overview\n",
        "/moin/BeginnersGuide/Programmers?action=AttachFile&do=view&target=Cpp2Python.pdf\n",
        "/moin/BeginnersGuide/Programmers?action=AttachFile&do=view&target=Tutorial.txt\n",
        "http://www.afterhoursprogramming.com/tutorial/Python/Python-Quiz/\n",
        "http://www.pyschools.com\n",
        "http://cscircles.cemc.uwaterloo.ca\n",
        "http://www.checkio.org\n",
        "http://www.ar-python.com/%d8%a7%d8%ae%d8%aa%d8%a8%d8%a7%d8%b1-%d9%85%d8%b3%d8%aa%d9%88%d9%89-%d9%85%d8%a8%d8%aa%d8%af%d9%89%d8%a1-quiz\n",
        "http://pypi.python.org/pypi\n",
        "http://www.python.org/search/\n",
        "http://www.python.org/doc/faq/\n",
        "http://www.python.org/search/\n",
        "http://pydoc.net/\n",
        "http://www.google.com\n",
        "http://www.python.org/psf/\n",
        "http://www.python.org/psf/donations/\n",
        "/moin/PayPal\n",
        "http://bugs.python.org/\n",
        "http://www.python.org/dev/\n",
        "http://www.python.org/doc/\n",
        "http://www.python.org/sigs/doc-sig/\n",
        "mailto:docs@python.org\n",
        "http://bugs.python.org/\n",
        "news:comp.lang.python.announce\n",
        "http://www.python.org/community/lists/#comp-lang-python-announce\n",
        "news:comp.lang.python\n",
        "http://www.python.org/patches/\n",
        "/moin/CategoryDocumentation\n",
        "/moin/DaleAthanasias\n",
        "http://moinmo.in/\n",
        "http://moinmo.in/Python\n",
        "http://moinmo.in/GPL\n",
        "http://validator.w3.org/check?uri=referer\n"
       ]
      }
     ],
     "prompt_number": 3
    }
   ],
   "metadata": {}
  }
 ]
}