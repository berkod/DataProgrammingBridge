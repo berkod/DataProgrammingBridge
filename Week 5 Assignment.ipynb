{
 "metadata": {
  "name": "",
  "signature": "sha256:ec7ae51affef5353e434a20697b991f482bfb24d4cac5088fe443b772602157b"
 },
 "nbformat": 3,
 "nbformat_minor": 0,
 "worksheets": [
  {
   "cells": [
    {
     "cell_type": "markdown",
     "metadata": {},
     "source": [
      "# Week 5 Python Assignment"
     ]
    },
    {
     "cell_type": "markdown",
     "metadata": {},
     "source": [
      "The following code block reads in the file of 1,700 movies found at [MovieLens](http://grouplens.org/datasets/movielens/) and searches for movies from 1959."
     ]
    },
    {
     "cell_type": "code",
     "collapsed": false,
     "input": [
      "fname = \"u.item\"\n",
      "#Protects from a file name that doesn't exist\n",
      "try:\n",
      "    fhand = open(fname)\n",
      "except:\n",
      "    print 'File cannot be opened: ',fname\n",
      "#foor loop that reads the line and outputs movies from 1959    \n",
      "for line in fhand:\n",
      "    if \"(1959)\" not in line:\n",
      "        continue\n",
      "    else:\n",
      "        fields = line.split(\"|\") #list of all the seperate fields per line\n",
      "        print fields[1]\n",
      "fhand.close()"
     ],
     "language": "python",
     "metadata": {},
     "outputs": [
      {
       "output_type": "stream",
       "stream": "stdout",
       "text": [
        "North by Northwest (1959)\n",
        "Some Like It Hot (1959)\n",
        "Ben-Hur (1959)\n",
        "Shaggy Dog, The (1959)\n",
        "World of Apu, The (Apur Sansar) (1959)\n"
       ]
      }
     ],
     "prompt_number": 25
    }
   ],
   "metadata": {}
  }
 ]
}